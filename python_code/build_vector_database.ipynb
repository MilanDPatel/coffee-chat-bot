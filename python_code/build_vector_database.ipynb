{
 "cells": [
  {
   "cell_type": "code",
   "execution_count": 1,
   "metadata": {},
   "outputs": [
    {
     "name": "stderr",
     "output_type": "stream",
     "text": [
      "/Library/Frameworks/Python.framework/Versions/3.12/lib/python3.12/site-packages/pinecone/data/index.py:1: TqdmWarning: IProgress not found. Please update jupyter and ipywidgets. See https://ipywidgets.readthedocs.io/en/stable/user_install.html\n",
      "  from tqdm.autonotebook import tqdm\n"
     ]
    },
    {
     "data": {
      "text/plain": [
       "True"
      ]
     },
     "execution_count": 1,
     "metadata": {},
     "output_type": "execute_result"
    }
   ],
   "source": [
    "from pinecone import Pinecone, ServerlessSpec\n",
    "import os\n",
    "from openai import OpenAI\n",
    "import pandas as pd\n",
    "from time import time\n",
    "import dotenv\n",
    "dotenv.load_dotenv()"
   ]
  },
  {
   "cell_type": "code",
   "execution_count": 2,
   "metadata": {},
   "outputs": [],
   "source": [
    "token= os.getenv(\"RUNPOD_TOKEN\") \n",
    "open_ai_base_url = os.getenv(\"RUNPOD_EMBEDDING_URL\") \n",
    "model_name= os.getenv(\"MODEL_NAME\") \n",
    "pinecone_api_key = os.getenv(\"PINECONE_API_KEY\") "
   ]
  },
  {
   "cell_type": "code",
   "execution_count": 3,
   "metadata": {},
   "outputs": [],
   "source": [
    "pc = Pinecone(api_key=pinecone_api_key)\n",
    "\n",
    "client = OpenAI(\n",
    "  api_key=token, \n",
    "  base_url=open_ai_base_url\n",
    ")"
   ]
  },
  {
   "cell_type": "markdown",
   "metadata": {},
   "source": [
    "Try Out Embeddings"
   ]
  },
  {
   "cell_type": "code",
   "execution_count": 4,
   "metadata": {},
   "outputs": [
    {
     "name": "stdout",
     "output_type": "stream",
     "text": [
      "[-0.05535165220499039, -0.056572869420051575, 0.08585154265165329, -0.06237364932894707, 0.01749393157660961, -0.011418377049267292, 0.052420731633901596, 0.052603915333747864, 0.02895810268819332, -0.02263830602169037, -0.013250201940536499, -0.04787169769406319, 0.029446590691804886, 0.031751636415719986, 0.05635915696620941, -0.009006474167108536, 0.012746450491249561, -0.054222024977207184, -0.103620246052742, -0.019554734230041504, 0.029156550765037537, 0.05199330672621727, -0.028805451467633247, -0.034804679453372955, 0.0015770869795233011, -0.006640366278588772, 0.019661590456962585, 0.03562900051474571, -0.008487456478178501, -0.07376149296760559, -0.00048514746595174074, -0.012944898568093777, 0.04658942297101021, -0.0003446598129812628, 0.051382698118686676, 0.0005123385926708579, 0.059625908732414246, -0.025065474212169647, -0.07791363447904587, -0.005609964486211538, 0.0604502335190773, -0.025019679218530655, -0.0016944382805377245, -0.016669608652591705, 0.02256198041141033, -0.042070917785167694, 0.0299350768327713, 0.045520856976509094, 0.05025307089090347, 0.017692377790808678, -0.0014969446929171681, 0.006014492828398943, -0.0161200612783432, 0.007777624297887087, 0.04121606796979904, 0.09476642310619354, 0.07821893692016602, -0.007460871245712042, 0.02189031057059765, 0.016226917505264282, 0.025355514138936996, 0.024805966764688492, -0.1370205283164978, 0.07266239821910858, 0.005701555870473385, -0.042406752705574036, 0.024683844298124313, -0.01601320505142212, -0.007582993246614933, 0.008884352631866932, 0.01830298639833927, -0.008563783019781113, -0.028179578483104706, 0.029110755771398544, 0.0030072464141994715, 0.021508680656552315, 0.0437500923871994, -0.026637790724635124, 0.040574926882982254, -0.05483263358473778, -0.011708416044712067, -0.0008019005763344467, 0.03022511675953865, 0.009197289124131203, -0.0013108999701216817, -0.03254542872309685, -0.006861711852252483, 0.06783859431743622, -0.04619252681732178, 0.03898734599351883, -0.021691864356398582, -0.009082799777388573, 0.03449937328696251, 0.05217648670077324, -0.03810196369886398, -0.037979841232299805, -0.004510869737714529, 0.03660597279667854, -0.02189031057059765, 0.3075023889541626, -0.06576252728700638, 0.028118517249822617, 0.08145516365766525, -0.04271205887198448, -0.007121220696717501, 0.046039871871471405, -0.007876848801970482, -0.009212554432451725, 0.0032762957271188498, -0.008655373938381672, 0.012990693561732769, -0.03103417158126831, 0.018043478950858116, 0.003545345040038228, 0.03962848708033562, -0.01505912933498621, 0.011044379323720932, 0.021722393110394478, 0.10935996472835541, -0.05171853303909302, 0.015463657677173615, 0.00976210180670023, -0.07205179333686829, 0.014257705770432949, 0.06441918760538101, -0.053977783769369125, 0.08847715705633163, 0.10410873591899872, -0.0025225759018212557, 0.023798462003469467, 0.008311906829476357, 0.054160963743925095, -0.05941219627857208, -0.010090303607285023, -0.01894412562251091, 0.005457312799990177, -0.028179578483104706, -0.029919812455773354, -0.02556922659277916, -0.039994850754737854, -0.013280732557177544, -0.09696461260318756, -0.012868572026491165, -0.11839696764945984, 0.01940208114683628, 0.012372452765703201, -0.012708287686109543, 0.011639722622931004, -0.013089917600154877, 0.01364709809422493, -0.023737400770187378, 0.028591739013791084, -0.042070917785167694, -0.024836497381329536, 0.010258221067488194, -0.034010887145996094, 0.03092731535434723, 0.03749135509133339, 0.019447878003120422, 0.02596612274646759, -0.01917310431599617, -0.03868204355239868, 0.013830279931426048, -0.04463547468185425, -0.059167955070734024, -0.13213565945625305, -0.0013290273491293192, 0.018241925165057182, 0.007731828838586807, 0.045398734509944916, 0.053641948848962784, 0.025187596678733826, -0.036422792822122574, 0.008792760781943798, 0.11479438096284866, -0.0026027183048427105, -0.0077509102411568165, 0.015692636370658875, -0.023416832089424133, -0.008273744024336338, 0.04457441344857216, -0.0639306977391243, -0.021172845736145973, -0.03483520820736885, 0.02343209832906723, -0.02170712873339653, 0.012807510793209076, 0.014646968804299831, -0.003388876561075449, 0.0351099818944931, -0.013608934357762337, 0.03263701871037483, 0.018470903858542442, 0.006312164478003979, -0.042009856551885605, 0.012647226452827454, 0.03950636461377144, -0.05660339817404747, 0.014311134815216064, -0.012074781581759453, 0.042467813938856125, -0.002026456641033292, -0.0017364176455885172, 0.03097311034798622, 0.06252630054950714, -0.007037261966615915, 0.03097311034798622, -0.010746708139777184, 0.0316905751824379, 0.018348783254623413, -0.022210881114006042, -0.03678915649652481, 0.10062826424837112, 0.023065732792019844, -0.012662491761147976, -0.08298168331384659, -0.027859007939696312, 0.04521555081009865, -0.042986832559108734, 0.04249834641814232, 0.009456797502934933, -0.005968697369098663, -0.09085853397846222, -0.2918708026409149, 0.06344221532344818, -0.007796706166118383, -0.03840726986527443, 0.014059258624911308, -0.053061868995428085, 0.06246523931622505, -0.0037781395949423313, 0.08908776938915253, -0.007121220696717501, 0.012738817371428013, -0.0754101350903511, 0.005064233671873808, 0.0018489985959604383, 0.01454011257737875, 0.04637570679187775, -0.010258221067488194, -0.022531449794769287, 0.013593669980764389, -0.03657544404268265, 0.004354401025921106, -0.003104562172666192, 0.02141708880662918, -0.027767417952418327, 0.0009016014519147575, -0.014349297620356083, 0.14434783160686493, 0.13506658375263214, 0.02602718397974968, 0.0035358043387532234, 0.04982564598321915, -0.06179356947541237, -0.007758542895317078, -0.17243582010269165, 0.03614801913499832, 0.06991466134786606, -0.004827622789889574, -0.1008114442229271, -0.05623703449964523, -0.009685776196420193, -0.02654620073735714, 0.012441146187484264, 0.007998970337212086, -0.04014750197529793, 0.0022840569727122784, -0.10282645374536514, -0.04094129428267479, 0.05458839237689972, -0.06924299150705338, 0.01140311174094677, 0.024256419390439987, -0.03852938860654831, 0.025065474212169647, 0.04704737663269043, 0.029675567522644997, -0.08481350541114807, -0.014318767003715038, -0.029553446918725967, -0.022363532334566116, 0.0938505083322525, -0.015165986493229866, 0.03825461491942406, -0.013257835060358047, -0.010800136253237724, -0.04771904647350311, 0.05883212015032768, -0.005407700780779123, -0.013372324407100677, 0.09885749965906143, -0.0019196001812815666, -0.013074652291834354, -0.057610902935266495, -0.031660046428442, -0.009052269160747528, 0.03501839190721512, 0.03807143494486809, 0.012731185182929039, 0.0007017226307652891, -0.021462885662913322, -0.033827707171440125, 0.045398734509944916, -0.024393806234002113, 0.047077909111976624, 0.0002542611618991941, -0.024439601227641106, 0.07803575694561005, 0.06237364932894707, -0.027507908642292023, 0.01721915602684021, -0.048634957522153854, -0.002593177603557706, 0.018165599554777145, 0.008632476441562176, -0.09629294276237488, 0.00924308504909277, -0.036941807717084885, -0.2803913652896881, 0.06139667332172394, 0.004178851377218962, 0.004396380390971899, -0.046497829258441925, 0.05977856367826462, 0.029064960777759552, 0.029400793835520744, -0.07089163362979889, 0.006014492828398943, -0.03162951394915581, 0.08072242885828018, 0.047535862773656845, 0.010555893182754517, -0.06728904694318771, 0.07650922983884811, 0.025828735902905464, -0.04115500673651695, 0.008479824289679527, -0.03431619331240654, 0.0035548857413232327, -0.004155953414738178, 0.19356286525726318, -0.06185463070869446, 0.07492165267467499, 0.014227176085114479, -0.018180865794420242, -0.0006659447681158781, -0.024424336850643158, -0.01865408755838871, -0.012807510793209076, 0.011868700385093689, -0.01778396964073181, -0.06051129102706909, 0.023172589018940926, 0.012296127155423164, -0.07003678381443024, 0.021035458892583847, 0.010998583398759365, -0.030377767980098724, -0.06942617893218994, -0.016043735668063164, -0.07510483264923096, 0.017005443572998047, 0.05672552064061165, -0.027965864166617393, -0.019722651690244675, -0.023600013926625252, -0.004785643424838781, 0.008647741749882698, 0.009380471892654896, 0.0013881800696253777, -0.001536061754450202, 0.03153792396187782, 0.015982674434781075, -0.013799750246107578, -0.026118773967027664, -0.0058618406765162945, 0.024897556751966476, -0.058068860322237015, -0.008113458752632141, -0.04692525416612625, 0.035048920661211014, 0.04573456943035126, -0.015830023214221]\n"
     ]
    }
   ],
   "source": [
    "output = client.embeddings.create(input = [\"helloo there\"],model=model_name)\n",
    "embedings = output.data[0].embedding\n",
    "print(embedings)"
   ]
  },
  {
   "cell_type": "code",
   "execution_count": 5,
   "metadata": {},
   "outputs": [
    {
     "data": {
      "text/plain": [
       "384"
      ]
     },
     "execution_count": 5,
     "metadata": {},
     "output_type": "execute_result"
    }
   ],
   "source": [
    "len(embedings)"
   ]
  },
  {
   "cell_type": "markdown",
   "metadata": {},
   "source": [
    "Wrangle Dataset"
   ]
  },
  {
   "cell_type": "code",
   "execution_count": 6,
   "metadata": {},
   "outputs": [
    {
     "data": {
      "text/html": [
       "<div>\n",
       "<style scoped>\n",
       "    .dataframe tbody tr th:only-of-type {\n",
       "        vertical-align: middle;\n",
       "    }\n",
       "\n",
       "    .dataframe tbody tr th {\n",
       "        vertical-align: top;\n",
       "    }\n",
       "\n",
       "    .dataframe thead th {\n",
       "        text-align: right;\n",
       "    }\n",
       "</style>\n",
       "<table border=\"1\" class=\"dataframe\">\n",
       "  <thead>\n",
       "    <tr style=\"text-align: right;\">\n",
       "      <th></th>\n",
       "      <th>name</th>\n",
       "      <th>category</th>\n",
       "      <th>description</th>\n",
       "      <th>ingredients</th>\n",
       "      <th>price</th>\n",
       "      <th>rating</th>\n",
       "      <th>image_path</th>\n",
       "    </tr>\n",
       "  </thead>\n",
       "  <tbody>\n",
       "    <tr>\n",
       "      <th>0</th>\n",
       "      <td>Cappuccino</td>\n",
       "      <td>Coffee</td>\n",
       "      <td>A rich and creamy cappuccino made with freshly...</td>\n",
       "      <td>[Espresso, Steamed Milk, Milk Foam]</td>\n",
       "      <td>4.50</td>\n",
       "      <td>4.7</td>\n",
       "      <td>cappuccino.jpg</td>\n",
       "    </tr>\n",
       "    <tr>\n",
       "      <th>1</th>\n",
       "      <td>Jumbo Savory Scone</td>\n",
       "      <td>Bakery</td>\n",
       "      <td>Deliciously flaky and buttery, this jumbo savo...</td>\n",
       "      <td>[Flour, Butter, Cheese, Herbs, Baking Powder, ...</td>\n",
       "      <td>3.25</td>\n",
       "      <td>4.3</td>\n",
       "      <td>SavoryScone.webp</td>\n",
       "    </tr>\n",
       "  </tbody>\n",
       "</table>\n",
       "</div>"
      ],
      "text/plain": [
       "                 name category  \\\n",
       "0          Cappuccino   Coffee   \n",
       "1  Jumbo Savory Scone   Bakery   \n",
       "\n",
       "                                         description  \\\n",
       "0  A rich and creamy cappuccino made with freshly...   \n",
       "1  Deliciously flaky and buttery, this jumbo savo...   \n",
       "\n",
       "                                         ingredients  price  rating  \\\n",
       "0                [Espresso, Steamed Milk, Milk Foam]   4.50     4.7   \n",
       "1  [Flour, Butter, Cheese, Herbs, Baking Powder, ...   3.25     4.3   \n",
       "\n",
       "         image_path  \n",
       "0    cappuccino.jpg  \n",
       "1  SavoryScone.webp  "
      ]
     },
     "execution_count": 6,
     "metadata": {},
     "output_type": "execute_result"
    }
   ],
   "source": [
    "df=pd.read_json('products/products.jsonl',lines=True)\n",
    "df.head(2)"
   ]
  },
  {
   "cell_type": "code",
   "execution_count": 7,
   "metadata": {},
   "outputs": [
    {
     "data": {
      "text/html": [
       "<div>\n",
       "<style scoped>\n",
       "    .dataframe tbody tr th:only-of-type {\n",
       "        vertical-align: middle;\n",
       "    }\n",
       "\n",
       "    .dataframe tbody tr th {\n",
       "        vertical-align: top;\n",
       "    }\n",
       "\n",
       "    .dataframe thead th {\n",
       "        text-align: right;\n",
       "    }\n",
       "</style>\n",
       "<table border=\"1\" class=\"dataframe\">\n",
       "  <thead>\n",
       "    <tr style=\"text-align: right;\">\n",
       "      <th></th>\n",
       "      <th>name</th>\n",
       "      <th>category</th>\n",
       "      <th>description</th>\n",
       "      <th>ingredients</th>\n",
       "      <th>price</th>\n",
       "      <th>rating</th>\n",
       "      <th>image_path</th>\n",
       "      <th>text</th>\n",
       "    </tr>\n",
       "  </thead>\n",
       "  <tbody>\n",
       "    <tr>\n",
       "      <th>0</th>\n",
       "      <td>Cappuccino</td>\n",
       "      <td>Coffee</td>\n",
       "      <td>A rich and creamy cappuccino made with freshly...</td>\n",
       "      <td>[Espresso, Steamed Milk, Milk Foam]</td>\n",
       "      <td>4.50</td>\n",
       "      <td>4.7</td>\n",
       "      <td>cappuccino.jpg</td>\n",
       "      <td>Cappuccino : A rich and creamy cappuccino made...</td>\n",
       "    </tr>\n",
       "    <tr>\n",
       "      <th>1</th>\n",
       "      <td>Jumbo Savory Scone</td>\n",
       "      <td>Bakery</td>\n",
       "      <td>Deliciously flaky and buttery, this jumbo savo...</td>\n",
       "      <td>[Flour, Butter, Cheese, Herbs, Baking Powder, ...</td>\n",
       "      <td>3.25</td>\n",
       "      <td>4.3</td>\n",
       "      <td>SavoryScone.webp</td>\n",
       "      <td>Jumbo Savory Scone : Deliciously flaky and but...</td>\n",
       "    </tr>\n",
       "  </tbody>\n",
       "</table>\n",
       "</div>"
      ],
      "text/plain": [
       "                 name category  \\\n",
       "0          Cappuccino   Coffee   \n",
       "1  Jumbo Savory Scone   Bakery   \n",
       "\n",
       "                                         description  \\\n",
       "0  A rich and creamy cappuccino made with freshly...   \n",
       "1  Deliciously flaky and buttery, this jumbo savo...   \n",
       "\n",
       "                                         ingredients  price  rating  \\\n",
       "0                [Espresso, Steamed Milk, Milk Foam]   4.50     4.7   \n",
       "1  [Flour, Butter, Cheese, Herbs, Baking Powder, ...   3.25     4.3   \n",
       "\n",
       "         image_path                                               text  \n",
       "0    cappuccino.jpg  Cappuccino : A rich and creamy cappuccino made...  \n",
       "1  SavoryScone.webp  Jumbo Savory Scone : Deliciously flaky and but...  "
      ]
     },
     "execution_count": 7,
     "metadata": {},
     "output_type": "execute_result"
    }
   ],
   "source": [
    "df['text'] =  df['name']+\" : \"+df['description'] + \\\n",
    "                \" -- Ingredients: \" + df['ingredients'].astype(str) + \\\n",
    "                \" -- Price: \" + df['price'].astype(str) + \\\n",
    "                \" -- rating: \" + df['rating'].astype(str) \n",
    "\n",
    "df.head(2)"
   ]
  },
  {
   "cell_type": "code",
   "execution_count": 13,
   "metadata": {},
   "outputs": [
    {
     "data": {
      "text/plain": [
       "\"Coffee shop Merry's Way about section: Welcome to Merry's Way Coffee, your neighborhood coffee shop located in the heart of Greenwich Village, New York City. At Merry's Way, we believe that coffee is more than just a drink—it’s an experience, a moment of joy, and a way to connect with others.\\n\\nOur Story\\nFounded in 2015, Merry’s Way started as a small family-owned café with one mission: to share the love of quality, ethically-sourced coffee with our community.\\n\\nMerry's passion for travel and coffee led her on a journey across South America, where she handpicked partnerships with small farms and cooperatives. We ensure that every cup we brew tells a story of dedication and care, from farm to table. Our beans are roasted in-house to bring out unique flavors that reflect the regions where they were grown.\\n\\nDelivery & Locations Served\\nIn addition to offering a cozy place to enjoy coffee in our café, we proudly deliver to Greenwich Village, SoHo, West Village, and Lower Manhattan. Whether you’re at home, in the office, or enjoying a day at Washington Square Park, we bring your favorite coffee right to your door. Just a click away, our delivery service ensures that you never miss your daily cup, no matter where you are.\\n\\nOur Menu\\nOur menu offers something for everyone, from our signature espresso blends to refreshing cold brews, artisanal teas, and fresh-baked goods sourced from local bakeries. We also cater to a variety of dietary needs with a range of plant-based milk options and gluten-free snacks.\\n\\nCommunity & Sustainability\\nAt Merry's Way, we are more than just coffee. We are part of the community, and we care deeply about sustainability. We use eco-friendly packaging, work with local farmers, and strive to minimize our carbon footprint. Our café regularly hosts events, such as live music nights, art showcases, and community fundraisers, making it a hub for creativity and connection.\\n\\nWorking Hours\\nWe're open every day to make sure you can get your coffee whenever you need it:\\n\\nMonday to Friday: 7 AM – 8 PM\\nSaturday: 8 AM – 8 PM\\nSunday: 8 AM – 6 PM\\nWhether you’re grabbing a coffee on the go or staying to enjoy the warm, inviting atmosphere of our café, Merry’s Way is your destination for coffee done right.\\n\\nStop by today or order online—we can’t wait to serve you!\""
      ]
     },
     "execution_count": 13,
     "metadata": {},
     "output_type": "execute_result"
    }
   ],
   "source": [
    "texts = df['text'].tolist()\n",
    "\n",
    "with open('products/Merry\\'s_way_about_us.txt') as f:\n",
    "    Merry_way_about_section = f.read()\n",
    "    \n",
    "Merry_way_about_section = \"Coffee shop Merry's Way about section: \" + Merry_way_about_section\n",
    "texts.append(Merry_way_about_section)\n",
    "\n",
    "\n",
    "with open('products/menu_items_text.txt') as f:\n",
    "    menue_items_text = f.read()\n",
    "    \n",
    "menue_items_text = \"Menu Items: \" + menue_items_text\n",
    "texts.append(menue_items_text)\n",
    "\n",
    "texts[-2]"
   ]
  },
  {
   "cell_type": "code",
   "execution_count": 21,
   "metadata": {},
   "outputs": [
    {
     "data": {
      "text/plain": [
       "20"
      ]
     },
     "execution_count": 21,
     "metadata": {},
     "output_type": "execute_result"
    }
   ],
   "source": [
    "output = client.embeddings.create(input = texts,model=model_name)\n",
    "embeddings = output.data\n",
    "len(embeddings)\n",
    "len(texts)"
   ]
  },
  {
   "cell_type": "markdown",
   "metadata": {},
   "source": [
    "Push data to database"
   ]
  },
  {
   "cell_type": "code",
   "execution_count": 18,
   "metadata": {},
   "outputs": [],
   "source": [
    "index_name = \"coffeeshop\"\n",
    "\n",
    "pc.create_index(\n",
    "    name=index_name,\n",
    "    dimension=384, # Replace with your model dimensions\n",
    "    metric=\"cosine\", # Replace with your model metric\n",
    "    spec=ServerlessSpec(\n",
    "        cloud=\"aws\",\n",
    "        region=\"us-east-1\"\n",
    "    ) \n",
    ")"
   ]
  },
  {
   "cell_type": "code",
   "execution_count": 19,
   "metadata": {},
   "outputs": [
    {
     "data": {
      "text/plain": [
       "{'upserted_count': 20}"
      ]
     },
     "execution_count": 19,
     "metadata": {},
     "output_type": "execute_result"
    }
   ],
   "source": [
    "# Wait for the index to be ready\n",
    "while not pc.describe_index(index_name).status['ready']:\n",
    "    time.sleep(1)\n",
    "\n",
    "index = pc.Index(index_name)\n",
    "\n",
    "vectors = []\n",
    "for text, e in zip(texts, embeddings):\n",
    "    entry_id = text.split(\":\")[0].strip()\n",
    "    vectors.append({\n",
    "        \"id\": entry_id,\n",
    "        \"values\": e.embedding,\n",
    "        \"metadata\": {'text': text}\n",
    "    })\n",
    "    \n",
    "index.upsert(\n",
    "    vectors=vectors,\n",
    "    namespace=\"ns1\"\n",
    ")"
   ]
  },
  {
   "cell_type": "code",
   "execution_count": 24,
   "metadata": {},
   "outputs": [],
   "source": [
    "output = client.embeddings.create(input = [\"Is Cappuccino lactose-free?\"],model=model_name)\n",
    "embeding = output.data[0].embedding"
   ]
  },
  {
   "cell_type": "code",
   "execution_count": 29,
   "metadata": {},
   "outputs": [
    {
     "name": "stdout",
     "output_type": "stream",
     "text": [
      "{'matches': [{'id': 'Cappuccino',\n",
      "              'metadata': {'text': 'Cappuccino : A rich and creamy cappuccino '\n",
      "                                   'made with freshly brewed espresso, steamed '\n",
      "                                   'milk, and a frothy milk cap. This '\n",
      "                                   'delightful drink offers a perfect balance '\n",
      "                                   'of bold coffee flavor and smooth milk, '\n",
      "                                   'making it an ideal companion for relaxing '\n",
      "                                   'mornings or lively conversations. -- '\n",
      "                                   \"Ingredients: ['Espresso', 'Steamed Milk', \"\n",
      "                                   \"'Milk Foam'] -- Price: 4.5 -- rating: 4.7\"},\n",
      "              'score': 0.734386802,\n",
      "              'values': []}],\n",
      " 'namespace': 'ns1',\n",
      " 'usage': {'read_units': 6}}\n"
     ]
    }
   ],
   "source": [
    "results = index.query(\n",
    "    namespace=\"ns1\",\n",
    "    vector=embeding,\n",
    "    top_k=1,\n",
    "    include_values=False,\n",
    "    include_metadata=True\n",
    ")\n",
    "\n",
    "print(results)"
   ]
  }
 ],
 "metadata": {
  "kernelspec": {
   "display_name": "Python 3",
   "language": "python",
   "name": "python3"
  },
  "language_info": {
   "codemirror_mode": {
    "name": "ipython",
    "version": 3
   },
   "file_extension": ".py",
   "mimetype": "text/x-python",
   "name": "python",
   "nbconvert_exporter": "python",
   "pygments_lexer": "ipython3",
   "version": "3.12.3"
  }
 },
 "nbformat": 4,
 "nbformat_minor": 2
}
